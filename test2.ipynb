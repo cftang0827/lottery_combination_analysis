{
 "cells": [
  {
   "cell_type": "code",
   "execution_count": 1,
   "metadata": {},
   "outputs": [],
   "source": [
    "%load_ext Cython"
   ]
  },
  {
   "cell_type": "code",
   "execution_count": 2,
   "metadata": {},
   "outputs": [],
   "source": [
    "import itertools as iter\n",
    "import numpy as np\n",
    "import time\n",
    "import sys\n",
    "import os\n",
    "from tqdm import tqdm\n",
    "\n",
    "\n",
    "def compare1(a1,a6_dict):\n",
    "    for i in a1:\n",
    "        if a6_dict.get(i) is not None:\n",
    "            return True\n",
    "    return False\n",
    "\n",
    "def compare2(a1,a2,a6_dict):\n",
    "    for i in a1:\n",
    "        if a6_dict.get(i) is not None:\n",
    "            for j in a2:\n",
    "                if a6_dict.get(j) is not None:\n",
    "                    return True\n",
    "    return False\n",
    "\n",
    "\n",
    "def make_winner_num_dict(winner_num):\n",
    "    winner_num_dict = dict()\n",
    "    for num in winner_num:\n",
    "        winner_num_dict[num] = 1\n",
    "        \n",
    "    return winner_num_dict\n",
    "\n",
    "def dict_init(overall_dict, number):\n",
    "    for i in range(0,number):\n",
    "        overall_dict[i] = 0\n",
    "\n",
    "def analyse_zero(base_array, target_input, overall_dict):\n",
    "    # len_array = len(target_input)\n",
    "    num = 0\n",
    "    for i in tqdm(target_input):\n",
    "        # print(i)\n",
    "        if i:\n",
    "            if overall_dict.get(base_array[num]) is None:\n",
    "                overall_dict[base_array[num]] = 1\n",
    "            else:\n",
    "                overall_dict[base_array[num]] += 1            \n",
    "            base_array[num] = 0\n",
    "        else:\n",
    "            base_array[num] += 1\n",
    "        num += 1\n",
    "    \n",
    "    overall_dict.pop(0,None)\n",
    "#     print(base_array)\n",
    "#     print(overall_dict)\n",
    "        "
   ]
  },
  {
   "cell_type": "code",
   "execution_count": 3,
   "metadata": {},
   "outputs": [],
   "source": [
    "%%cython\n",
    "cimport cython\n",
    "# @cython.boundscheck(False) \n",
    "# @cython.wraparound(False)\n",
    "# @cython.nonecheck(False)\n",
    "cimport numpy as np\n",
    "ctypedef np.long DTYPE_t\n",
    "def compare3(a1, a2, a6_dict):\n",
    "    cdef dict a6_cython = a6_dict\n",
    "    cdef tuple a1_cython = a1\n",
    "    cdef tuple a2_cython = a2\n",
    "\n",
    "    for i in a1_cython:\n",
    "        if a6_cython.get(i) is not None:\n",
    "            for j in a2_cython:\n",
    "                if a6_cython.get(j) is not None:\n",
    "                    return True\n",
    "# def compare2(a1,a2,a6_dict):\n",
    "#     for i in a1:\n",
    "#         if a6_dict.get(i) is not None:\n",
    "#             for j in a2:\n",
    "#                 if a6_dict.get(j) is not None:\n",
    "#                     return True\n",
    "#     return False\n",
    "\n",
    "# %%cython\n",
    "# def sum_list(a):\n",
    "#     cdef list cast_list = <list?>a\n",
    "#     cdef int s = 0\n",
    "#     cdef int i \n",
    "#     for i in cast_list:\n",
    "#         s += i\n",
    "#     return s\n",
    "\n",
    "\n"
   ]
  },
  {
   "cell_type": "code",
   "execution_count": 4,
   "metadata": {},
   "outputs": [],
   "source": [
    "%%cython\n",
    "cimport cython\n",
    "def analyse_zero2(base_array, target_input, overall_dict):\n",
    "    # len_array = len(target_input)\n",
    "    cdef int num = 0\n",
    "    cdef list base_array_c = base_array\n",
    "    cdef list target_input_c = target_input\n",
    "    cdef dict overall_dict_c = overall_dict\n",
    "    cdef int i\n",
    "    for i in target_input_c:\n",
    "        # print(i)\n",
    "        if i:\n",
    "            if overall_dict_c.get(base_array_c[num]) is None:\n",
    "                overall_dict_c[base_array_c[num]] = 1\n",
    "            else:\n",
    "                overall_dict_c[base_array_c[num]] += 1            \n",
    "            base_array_c[num] = 0\n",
    "        else:\n",
    "            base_array_c[num] += 1\n",
    "        num += 1\n",
    "    \n",
    "    overall_dict_c.pop(0,None)"
   ]
  },
  {
   "cell_type": "code",
   "execution_count": 68,
   "metadata": {},
   "outputs": [],
   "source": [
    "%%cython\n",
    "cimport cython\n",
    "cimport numpy as np\n",
    "def analyse_zero3(np.ndarray [long, ndim=1] base_array_c,np.ndarray [long, ndim=1] target_input_c,np.ndarray [long, ndim=1] overall_dict_c):\n",
    "    # len_array = len(target_input)\n",
    "    cdef int num = 0\n",
    "#     cdef list base_array_c = base_array\n",
    "#     cdef list target_input_c = target_input\n",
    "#     cdef dict overall_dict_c = overall_dict\n",
    "    cdef int i\n",
    "    cdef np.ndarray [long, ndim=1] dd\n",
    "#     dd = (target_input_c + base_array_c) * target_input_c\n",
    "    \n",
    "#     for i in dd:\n",
    "#         if overall_dict_c.get(base_array_c[num]) is None:\n",
    "#             overall_dict_c[base_array_c[num]] = 1\n",
    "#         else:\n",
    "#             overall_dict_c[base_array_c[num]] += 1            \n",
    "#     num += 1           \n",
    "    \n",
    "    \n",
    "    for i in target_input_c:\n",
    "        # print(i)\n",
    "        if i == 1:\n",
    "#             if overall_dict_c.get(base_array_c[num]) is None:\n",
    "#                 overall_dict_c[base_array_c[num]] = 1\n",
    "#             else:\n",
    "            overall_dict_c[base_array_c[num]] += 1            \n",
    "            base_array_c[num] = 0\n",
    "        else:\n",
    "            base_array_c[num] += 1\n",
    "        num += 1\n",
    "    \n",
    "    overall_dict_c[0] = 0"
   ]
  },
  {
   "cell_type": "code",
   "execution_count": 33,
   "metadata": {},
   "outputs": [],
   "source": [
    "\n",
    "\n",
    "def make_winner_dict_list(winner_number):\n",
    "    winner_num_dict = []\n",
    "    for ii in winner_number:\n",
    "        winner_num_dict.append(make_winner_num_dict(ii))\n",
    "    \n",
    "    return winner_num_dict\n",
    "\n",
    "def make_numpy_file(winner_number_dict, start_name, odd, even):\n",
    "    com_num = len(odd)*len(even)\n",
    "    if os.path.isdir('data') == False:\n",
    "        print('無法存取data資料夾，重新建立data資料夾')\n",
    "        try:\n",
    "            os.mkdir('data')\n",
    "        except:\n",
    "            print('[錯誤2] 建立data資料夾有誤')\n",
    "            sys.exit(0)\n",
    "    # calculate every combination\n",
    "\n",
    "    for ii in (range(0, len(winner_number_dict))):\n",
    "        file_name = str(ii+int(start_name)) + '.data'\n",
    "#         print('計算檔案: ' + file_name + ' 中...')\n",
    "        # combination_data = np.array([False]*com_num,np.bool)\n",
    "        combination_data = [False] * com_num\n",
    "        flag = 0\n",
    "        for i in tqdm(odd):\n",
    "            for j in even:\n",
    "                combination_data[flag] = compare2(i, j, winner_number_dict[ii])\n",
    "                flag += 1            \n",
    "#         print('製作檔案 ' + file_name + '中.....')\n",
    "        try:\n",
    "            f = open(os.path.join('data',file_name),'wb')\n",
    "            combination_data_np = np.array(combination_data)\n",
    "#             print(combination_data)\n",
    "            np.save(f,combination_data_np)            \n",
    "#             print('存檔，檔名為: ' + file_name + '，存檔成功')  \n",
    "        except:\n",
    "            print('[錯誤3] 存檔錯誤，跳過本檔案，請重新操作')\n",
    "            sys.exit(0)\n",
    "        \n",
    "def get_winner_number_from_file(file_name):\n",
    "    try:\n",
    "        f2 = open(file_name, 'r')\n",
    "        tmp = f2.read().split('\\n')\n",
    "        tmp = tmp[:len(tmp)-1]\n",
    "        winner_number = [[int(j) for j in (i.split(','))] for i in tmp] \n",
    "    except:\n",
    "        print('[錯誤1] 操作異常，輸入檔名或是檔案有誤!')\n",
    "        print('請重新操作')\n",
    "        sys.exit(0)\n",
    "    return winner_number\n",
    "\n",
    "def get_winner_number_from_input():\n",
    "    try:\n",
    "        winner_str = input(\"請輸入開獎號碼:\")\n",
    "        winner_number_split_str = winner_str.split(',')\n",
    "        winner_number = [[int(j) for j in winner_number_split_str]]\n",
    "    except:\n",
    "        print('[錯誤4] 輸入開獎號碼有誤，無法分析')\n",
    "        print('請重新操作')\n",
    "        sys.exit(0)\n",
    "    return winner_number\n",
    "    \n",
    "\n",
    "def mode_1():\n",
    "#     odd = list(iter.combinations(range(1,50,2),4))\n",
    "#     even = list(iter.combinations(range(2,49,2),4))\n",
    "    odd = list(iter.combinations(range(1,10,2),4))\n",
    "    even = list(iter.combinations(range(2,10,2),4))        \n",
    "    input_file_name = input('請輸入包含正確格式的開獎號碼檔案名稱: ')\n",
    "    print('開啟檔案 ' + input_file_name + \" ......\")\n",
    "    winner_number = get_winner_number_from_file(input_file_name)\n",
    "    print('開啟檔案 ' + input_file_name + \" 成功......\")\n",
    "    start_name = input('請輸入檔案第一期的期數: ')\n",
    "    winner_number_dict_list = make_winner_dict_list(winner_number)\n",
    "\n",
    "    # making combination test of odd and even\n",
    "    time0 = time.clock()\n",
    "    make_numpy_file(winner_number_dict_list, start_name, odd, even)\n",
    "    time2 = time.clock() - time0\n",
    "    print('本次計算時間: ' + str(time2) + ' 秒')\n",
    "\n",
    "def mode_2():\n",
    "    odd = list(iter.combinations(range(1,10,2),4))\n",
    "    even = list(iter.combinations(range(2,10,2),4))   \n",
    "#     odd = list(iter.combinations(range(1,50,2),4))\n",
    "#     even = list(iter.combinations(range(2,49,2),4))\n",
    "    winner_number = get_winner_number_from_input()\n",
    "    winner_number_dict_list = make_winner_dict_list(winner_number)\n",
    "    start_name = input('請輸入本次輸入的期數: ')\n",
    "    time0 = time.clock()\n",
    "    make_numpy_file(winner_number_dict_list, start_name, odd, even)\n",
    "    time2 = time.clock() - time0\n",
    "    print('本次計算時間: ' + str(time2) + ' 秒')"
   ]
  },
  {
   "cell_type": "code",
   "execution_count": 6,
   "metadata": {},
   "outputs": [
    {
     "name": "stdout",
     "output_type": "stream",
     "text": [
      "請輸入計算模式(1/2): 1\n",
      "請輸入包含正確格式的開獎號碼檔案名稱: test.txt\n",
      "開啟檔案 test.txt ......\n",
      "開啟檔案 test.txt 成功......\n",
      "請輸入檔案第一期的期數: 1\n"
     ]
    },
    {
     "name": "stderr",
     "output_type": "stream",
     "text": [
      "100%|██████████| 5/5 [00:00<00:00, 32615.12it/s]\n",
      "100%|██████████| 5/5 [00:00<00:00, 34379.54it/s]\n",
      "100%|██████████| 5/5 [00:00<00:00, 35305.59it/s]\n",
      "100%|██████████| 5/5 [00:00<00:00, 106997.55it/s]\n",
      "100%|██████████| 5/5 [00:00<00:00, 84562.58it/s]\n",
      "100%|██████████| 5/5 [00:00<00:00, 104335.92it/s]\n",
      "100%|██████████| 5/5 [00:00<00:00, 100824.62it/s]\n",
      "100%|██████████| 5/5 [00:00<00:00, 102300.10it/s]\n",
      "100%|██████████| 5/5 [00:00<00:00, 94893.76it/s]"
     ]
    },
    {
     "name": "stdout",
     "output_type": "stream",
     "text": [
      "本次計算時間: 0.015361999999999876 秒\n"
     ]
    },
    {
     "name": "stderr",
     "output_type": "stream",
     "text": [
      "\n"
     ]
    }
   ],
   "source": [
    "mode = input(\"請輸入計算模式(1/2): \")\n",
    "if mode == '1':\n",
    "    mode_1()\n",
    "elif mode == '2':\n",
    "    mode_2()\n",
    "else:\n",
    "    print(\"輸入錯誤，請重新執行程式！\")"
   ]
  },
  {
   "cell_type": "code",
   "execution_count": null,
   "metadata": {
    "scrolled": false
   },
   "outputs": [],
   "source": [
    "import pickle\n",
    "load_file_name_first = int(input('請輸入要進行第二階段分析的開始檔案: '))\n",
    "load_file_name_last = int(input('請輸入要進行第二階段分析的最後檔案: '))\n",
    "\n",
    "odd = list(iter.combinations(range(1,50,2),4))\n",
    "even = list(iter.combinations(range(2,49,2),4))\n",
    "\n",
    "# odd = list(iter.combinations(range(1,10,2),4))\n",
    "# even = list(iter.combinations(range(2,10,2),4))\n",
    "t1 = time.clock()\n",
    "com_num = int(len(odd)*len(even))\n",
    "print(str(time.clock()-t1))\n",
    "t1 = time.clock()\n",
    "ba_npz_tmp = np.load('base_array_{}.npz'.format(str(load_file_name_first-1)))\n",
    "base_array = ba_npz_tmp['data']\n",
    "# base_array = np.array([0] * com_num, dtype=np.int)\n",
    "# base_array = [int(0)] * com_num\n",
    "# dict for continuous number\n",
    "# overall_dict = np.array([0] * 50000, np.int16)\n",
    "# overall_dict = dict()\n",
    "# overall_longest_num = 20000\n",
    "# overall_dict = np.array([0] * overall_longest_num, dtype=np.int)\n",
    "\n",
    "od_npz_tmp = np.load('overall_dict_{}.npz'.format(str(load_file_name_first-1)))\n",
    "overall_dict = od_npz_tmp['data']\n",
    "\n",
    "\n",
    "\n",
    "# dict initialization\n",
    "# dict_init(overall_dict,10000)\n",
    "\n",
    "end_array = np.array([True]*com_num, dtype=np.int)\n",
    "\n",
    "# make a output file\n",
    "# f_write = open(str(load_file_name_first) + \"_\" + str(load_file_name_last) + \".analyse\" )\n",
    "print(str(time.clock() - t1))\n",
    "t1 = time.clock()\n",
    "start_time = time.clock()\n",
    "\n",
    "for ii in range(load_file_name_first,load_file_name_last+1):\n",
    "    print(ii)\n",
    "#     print(\"Analyzing file: \" + str(ii) + \".data...\")\n",
    "    f_read = open(os.path.join('data2',str(ii)) + \".data\", \"rb\")\n",
    "    target_input = (np.load(f_read).astype(np.bool).astype(np.int))\n",
    "    \n",
    "    \n",
    "    analyse_zero3(base_array, target_input, overall_dict)\n",
    "    print(str(ii)+'.data')\n",
    "    print(base_array)\n",
    "    np.savez_compressed('base_array_{}'.format(str(ii)), data=base_array)\n",
    "    np.savez_compressed('overall_dict_{}'.format(str(ii)), data=overall_dict )\n",
    "#     od = open('overall_dict_{}.pkl'.format(str(ii)), 'wb')\n",
    "#     pickle.dump(overall_dict,od)\n",
    "#     od.close()\n",
    "    print(overall_dict[0:9])\n",
    "#     print(overall_dict[1:10])\n",
    "    f_read.close()\n",
    "\n",
    "last_win_info = base_array.copy()\n",
    "analyse_zero3(base_array, end_array, overall_dict)\n",
    "# print(base_array)\n",
    "# print(overall_dict)\n",
    "overall_time = time.clock() - start_time\n",
    "\n",
    "print(\"The time elpased = \" + str(overall_time) + \" seconds\" )\n",
    "# f_save_chart = open(str(load_file_name_first) + \"_\" + str(load_file_name_last) + \".analyse\",'wb')\n",
    "# np.save(f_save_chart, overall_dict)\n",
    "# f_last_save = open(str(load_file_name_first) + \"_\" + str(load_file_name_last) + \"last_only2.analyse\",'wb' )\n",
    "# np.save(f_last_save,np.array(base_array,np.int16) - np.array(last_win_info,np.int16))\n",
    "print(\"Save file OK\")"
   ]
  },
  {
   "cell_type": "code",
   "execution_count": 83,
   "metadata": {},
   "outputs": [],
   "source": [
    "odd = list(iter.combinations(range(1,50,2),4))\n",
    "even = list(iter.combinations(range(2,49,2),4))\n",
    "com_num = len(odd) * len(even)\n",
    "base_array = np.array([0] * com_num, dtype=np.int)\n",
    "# base_array = [int(0)] * com_num\n",
    "# dict for continuous number\n",
    "# overall_dict = np.array([0] * 50000, np.int16)\n",
    "# overall_dict = dict()\n",
    "overall_longest_num = 20000\n",
    "overall_dict = np.array([0] * overall_longest_num, dtype=np.int)\n",
    "\n",
    "np.savez_compressed('base_array_{}'.format(0), data=base_array)\n",
    "np.savez_compressed('overall_dict_{}'.format(0), data=overall_dict )\n"
   ]
  },
  {
   "cell_type": "code",
   "execution_count": 22,
   "metadata": {},
   "outputs": [],
   "source": [
    "bb = np.load('base_array_50.npy')\n",
    "bb.shape\n"
   ]
  },
  {
   "cell_type": "code",
   "execution_count": 40,
   "metadata": {},
   "outputs": [],
   "source": [
    "np.savez_compressed('npz.npz', bb=bb)\n",
    "    "
   ]
  },
  {
   "cell_type": "code",
   "execution_count": 54,
   "metadata": {},
   "outputs": [],
   "source": [
    "a = np.load('base_array_50.npy.npz')\n",
    "b = a['data']"
   ]
  },
  {
   "cell_type": "code",
   "execution_count": 56,
   "metadata": {},
   "outputs": [
    {
     "data": {
      "text/plain": [
       "array([ 0,  0,  0, ..., 50, 50, 50])"
      ]
     },
     "execution_count": 56,
     "metadata": {},
     "output_type": "execute_result"
    }
   ],
   "source": [
    "b\n"
   ]
  },
  {
   "cell_type": "code",
   "execution_count": 41,
   "metadata": {},
   "outputs": [],
   "source": [
    "cc = np.load('npz.npz')\n",
    "dd = cc['bb']"
   ]
  },
  {
   "cell_type": "code",
   "execution_count": 57,
   "metadata": {},
   "outputs": [
    {
     "data": {
      "text/plain": [
       "(array([ 83099978.,  21048423.,  11158238.,   7667999.,   4135902.,\n",
       "          2403675.,   1859142.,    932867.,    533607.,   1579069.]),\n",
       " array([  0.,   5.,  10.,  15.,  20.,  25.,  30.,  35.,  40.,  45.,  50.]),\n",
       " <a list of 10 Patch objects>)"
      ]
     },
     "execution_count": 57,
     "metadata": {},
     "output_type": "execute_result"
    },
    {
     "data": {
      "image/png": "[encoded data removed]",
      "text/plain": [
       "<matplotlib.figure.Figure at 0x7f39e65738d0>"
      ]
     },
     "metadata": {},
     "output_type": "display_data"
    }
   ],
   "source": [
    "plt.hist(dd)"
   ]
  },
  {
   "cell_type": "code",
   "execution_count": 43,
   "metadata": {},
   "outputs": [],
   "source": [
    "tt = np.load('./data/39.data')"
   ]
  },
  {
   "cell_type": "code",
   "execution_count": 44,
   "metadata": {},
   "outputs": [],
   "source": [
    "np.savez_compressed('testnpz.data', data=tt)"
   ]
  },
  {
   "cell_type": "code",
   "execution_count": 23,
   "metadata": {},
   "outputs": [],
   "source": [
    "import h5py\n",
    "f = h5py.File('HDF5_FILE.h5','w')\n",
    "f['data'] = bb\n"
   ]
  },
  {
   "cell_type": "code",
   "execution_count": 24,
   "metadata": {},
   "outputs": [],
   "source": [
    "f.close()"
   ]
  },
  {
   "cell_type": "code",
   "execution_count": 12,
   "metadata": {},
   "outputs": [
    {
     "data": {
      "image/png": "[encoded data removed]",
      "text/plain": [
       "<matplotlib.figure.Figure at 0x7f3a27b2e0b8>"
      ]
     },
     "metadata": {},
     "output_type": "display_data"
    }
   ],
   "source": [
    "from matplotlib import pyplot as plt\n",
    "plt.hist(bb[1:])\n",
    "plt.show()"
   ]
  },
  {
   "cell_type": "code",
   "execution_count": null,
   "metadata": {},
   "outputs": [],
   "source": [
    "make_winner_dict_list(winner_number)"
   ]
  },
  {
   "cell_type": "code",
   "execution_count": null,
   "metadata": {},
   "outputs": [],
   "source": [
    "s = '1,2,3,4,5,6'\n",
    "\n",
    "s.split(',')\n"
   ]
  },
  {
   "cell_type": "code",
   "execution_count": null,
   "metadata": {},
   "outputs": [],
   "source": [
    "type(target_input)"
   ]
  },
  {
   "cell_type": "code",
   "execution_count": 10,
   "metadata": {},
   "outputs": [
    {
     "data": {
      "text/plain": [
       "1"
      ]
     },
     "execution_count": 10,
     "metadata": {},
     "output_type": "execute_result"
    }
   ],
   "source": [
    "int(True)"
   ]
  },
  {
   "cell_type": "code",
   "execution_count": 23,
   "metadata": {},
   "outputs": [
    {
     "data": {
      "text/plain": [
       "list"
      ]
     },
     "execution_count": 23,
     "metadata": {},
     "output_type": "execute_result"
    }
   ],
   "source": [
    "type(target_input)"
   ]
  },
  {
   "cell_type": "code",
   "execution_count": 15,
   "metadata": {},
   "outputs": [],
   "source": [
    "f_read = open(os.path.join('data',str(1)) + \".data\", \"rb\")"
   ]
  },
  {
   "cell_type": "code",
   "execution_count": 16,
   "metadata": {},
   "outputs": [],
   "source": [
    "tt = np.load(f_read)"
   ]
  },
  {
   "cell_type": "code",
   "execution_count": 17,
   "metadata": {},
   "outputs": [
    {
     "data": {
      "text/plain": [
       "array([None, None, None, ..., None, None, None], dtype=object)"
      ]
     },
     "execution_count": 17,
     "metadata": {},
     "output_type": "execute_result"
    }
   ],
   "source": [
    "tt\n"
   ]
  },
  {
   "cell_type": "code",
   "execution_count": 18,
   "metadata": {},
   "outputs": [
    {
     "data": {
      "text/plain": [
       "array([None, True, True, None, None, True, None, None, True, None, None,\n",
       "       None, None, None, None, None, None, None, None, None, None, True,\n",
       "       True, None, None, True, None, None, True, None, None, None, None,\n",
       "       None, None, None, None, None, None, None, True, True, None, None,\n",
       "       True, None, None, True], dtype=object)"
      ]
     },
     "execution_count": 18,
     "metadata": {},
     "output_type": "execute_result"
    }
   ],
   "source": [
    "tt[2:50]"
   ]
  },
  {
   "cell_type": "code",
   "execution_count": 20,
   "metadata": {},
   "outputs": [
    {
     "data": {
      "text/plain": [
       "array([False, False, False, ..., False, False, False], dtype=bool)"
      ]
     },
     "execution_count": 20,
     "metadata": {},
     "output_type": "execute_result"
    }
   ],
   "source": [
    "tt.astype(np.bool)"
   ]
  },
  {
   "cell_type": "code",
   "execution_count": null,
   "metadata": {},
   "outputs": [],
   "source": []
  }
 ],
 "metadata": {
  "kernelspec": {
   "display_name": "Python 3",
   "language": "python",
   "name": "python3"
  },
  "language_info": {
   "codemirror_mode": {
    "name": "ipython",
    "version": 3
   },
   "file_extension": ".py",
   "mimetype": "text/x-python",
   "name": "python",
   "nbconvert_exporter": "python",
   "pygments_lexer": "ipython3",
   "version": "3.6.3"
  }
 },
 "nbformat": 4,
 "nbformat_minor": 2
}
