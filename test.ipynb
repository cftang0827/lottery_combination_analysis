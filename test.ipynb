{
 "cells": [
  {
   "cell_type": "code",
   "execution_count": 29,
   "metadata": {},
   "outputs": [],
   "source": [
    "import itertools as iter\n",
    "import numpy as np\n",
    "import time\n",
    "\n",
    "\n",
    "\n",
    "def compare1(a1,a6_dict):\n",
    "    for i in a1:\n",
    "        if a6_dict.get(i) is not None:\n",
    "            return True\n",
    "    return False\n",
    "\n",
    "def compare2(a1,a2,a6_dict):\n",
    "    for i in a1:\n",
    "        if a6_dict.get(i) is not None:\n",
    "            for j in a2:\n",
    "                if a6_dict.get(j) is not None:\n",
    "                    return True\n",
    "    return False\n",
    "\n",
    "def make_dict(a6):\n",
    "    a6_dict = dict()\n",
    "    for i in a6:\n",
    "        a6_dict[i] = 1\n",
    "    return a6_dict\n",
    "\n",
    "def dict_init(overall_dict, number):\n",
    "    for i in range(0,number):\n",
    "        overall_dict[i] = 0\n",
    "\n",
    "def analyse_zero(base_array, target_input, overall_dict, len_array):\n",
    "    # len_array = len(target_input)\n",
    "    num = 0\n",
    "    for i in target_input:\n",
    "        # print(i)\n",
    "        if i:\n",
    "            overall_dict[base_array[num]] += 1\n",
    "            base_array[num] = 0\n",
    "        else:\n",
    "            base_array[num] += 1\n",
    "        num += 1\n",
    "\n",
    "        \n",
    "def dict_2_np(start_name, com_num, odd, even ):\n",
    "    file_name = str(ii+int(start_name)) + '.data'\n",
    "    combination_data = [False] * com_num\n",
    "\n",
    "    flag = 0\n",
    "    for i in odd:\n",
    "        for j in even:\n",
    "            combination_data[flag] = compare2(i, j, winner_number_dict[ii])\n",
    "            flag += 1            \n",
    "\n",
    "    f = open(file_name,'wb')\n",
    "    combination_data_np = np.array(combination_data)\n",
    "    print(combination_data_np)\n",
    "    np.save(f,combination_data_np) \n",
    "    f.close()\n",
    "    \n",
    "def mode1():\n",
    "    # odd = list(iter.combinations(range(1,50,2),4))\n",
    "    # even = list(iter.combinations(range(2,49,2),4))\n",
    "    odd = list(iter.combinations(range(1,10,2),4))\n",
    "    even = list(iter.combinations(range(2,10,2),4))   \n",
    "    try:\n",
    "        start_name = input('請輸入批次處理的第一期期數: ')\n",
    "        input_file_name = input('請輸入批次處理的原始檔案名稱: ')\n",
    "        f2 = open(input_file_name,'r')\n",
    "        tmp = f2.read().split('\\n')\n",
    "        f2.close()\n",
    "        # make winner number dictionary array\n",
    "        winner_number_dict = []\n",
    "        for ii in winner_number:\n",
    "            winner_number_dict.append(make_dict(ii))\n",
    "        tmp = tmp[:len(tmp)-1]\n",
    "        winner_number = [[int(j) for j in (i.split(','))] for i in tmp]\n",
    "    except:\n",
    "        print('[錯誤代碼1] 輸入操作有誤，或是檔案格式不正確，請重新輸入\\n')\n",
    "\n",
    "\n",
    "\n",
    "\n",
    "    # making combination test of odd and even\n",
    "    time0 = time.clock()\n",
    "    com_num = len(odd)*len(even)\n",
    "\n",
    "    # calculate every combination\n",
    "\n",
    "    for ii in range(0, len(winner_number_dict)):\n",
    "        dict_2_np(start_name, com_num, odd, even)\n",
    "\n",
    "    time2 = time.clock() - time0\n",
    "    print('總共花費: ' + str(time2) + ' 秒')\n",
    "    \n",
    "def mode2():\n",
    "    odd = list(iter.combinations(range(1,10,2),4))\n",
    "    even = list(iter.combinations(range(2,10,2),4))\n",
    "    try:\n",
    "        start_name = input('請輸入期數: ')\n",
    "        tmp = input('請輸入本期開獎號碼:')\n",
    "        tmp = [tmp]\n",
    "        winner_number = [[int(j) for j in (i.split(','))] for i in tmp]\n",
    "    except:\n",
    "        print('[錯誤代碼1] 輸入操作有誤，或是檔案格式不正確，請重新輸入\\n')\n",
    "    \n",
    "    \n",
    "    # make winner number dictionary array\n",
    "    winner_number_dict = []\n",
    "    for ii in winner_number:\n",
    "        winner_number_dict.append(make_dict(ii))\n",
    "\n",
    "    # making combination test of odd and even\n",
    "    time0 = time.clock()\n",
    "    com_num = len(odd)*len(even)\n",
    "\n",
    "    # calculate every combination\n",
    "\n",
    "    for ii in range(0, len(winner_number_dict)):\n",
    "        dict_2_np(start_name, com_num, odd, even)\n",
    "\n",
    "    time2 = time.clock() - time0\n",
    "    print('總共花費: ' + str(time2) + ' 秒')    \n",
    "    "
   ]
  },
  {
   "cell_type": "code",
   "execution_count": null,
   "metadata": {},
   "outputs": [],
   "source": [
    "mode_num = input('請輸入模式: \\n [模式1] 批次輸入\\n [模式2] 單筆輸入\\n\\n')\n",
    "if mode_num == '1':\n",
    "    mode1()\n",
    "elif mode_num == '2':\n",
    "    mode2()"
   ]
  },
  {
   "cell_type": "code",
   "execution_count": 24,
   "metadata": {},
   "outputs": [],
   "source": [
    "\n",
    "assert 2*2==2+2\n"
   ]
  },
  {
   "cell_type": "code",
   "execution_count": 5,
   "metadata": {},
   "outputs": [
    {
     "name": "stdout",
     "output_type": "stream",
     "text": [
      "Please enter the first file name you want to analyse and load: 1\n",
      "Please enter the last file name you want to analyse and load: 9\n",
      "Analyzing file: 1.data...\n",
      "Analyzing file: 2.data...\n",
      "Analyzing file: 3.data...\n",
      "Analyzing file: 4.data...\n",
      "Analyzing file: 5.data...\n",
      "Analyzing file: 6.data...\n",
      "Analyzing file: 7.data...\n",
      "Analyzing file: 8.data...\n",
      "Analyzing file: 9.data...\n",
      "The time elpased = 0.265115999999999 seconds\n",
      "Save file OK\n"
     ]
    }
   ],
   "source": [
    "load_file_name_first = int(input('Please enter the first file name you want to analyse and load: '))\n",
    "load_file_name_last = int(input('Please enter the last file name you want to analyse and load: '))\n",
    "\n",
    "# odd = list(iter.combinations(range(1,50,2),4))\n",
    "# even = list(iter.combinations(range(2,49,2),4))\n",
    "\n",
    "odd = list(iter.combinations(range(1,10,2),4))\n",
    "even = list(iter.combinations(range(2,10,2),4))\n",
    "\n",
    "com_num = len(odd)*len(even)\n",
    "\n",
    "# the bucket array to store the number\n",
    "# base_array = np.array([0] * com_num, np.int8)\n",
    "base_array = [0] * com_num\n",
    "# dict for continuous number\n",
    "# overall_dict = np.array([0] * 50000, np.int16)\n",
    "overall_dict = [0] * 50000\n",
    "# dict initialization\n",
    "# dict_init(overall_dict,10000)\n",
    "\n",
    "end_array = np.array([True]*com_num, np.bool)\n",
    "\n",
    "# make a output file\n",
    "# f_write = open(str(load_file_name_first) + \"_\" + str(load_file_name_last) + \".analyse\" )\n",
    "start_time = time.clock()\n",
    "for ii in range(load_file_name_first,load_file_name_last+1):\n",
    "    print(\"Analyzing file: \" + str(ii) + \".data...\")\n",
    "    f_read = open(str(ii) + \".data\", \"rb\")\n",
    "    target_input = (np.load(f_read)).tolist()\n",
    "    analyse_zero(base_array, target_input, overall_dict, com_num)\n",
    "    f_read.close()\n",
    "\n",
    "last_win_info = base_array.copy()\n",
    "analyse_zero(base_array, end_array, overall_dict, com_num)\n",
    "overall_time = time.clock() - start_time\n",
    "\n",
    "print(\"The time elpased = \" + str(overall_time) + \" seconds\" )\n",
    "f_save_chart = open(str(load_file_name_first) + \"_\" + str(load_file_name_last) + \".analyse\",'wb')\n",
    "np.save(f_save_chart, overall_dict)\n",
    "f_last_save = open(str(load_file_name_first) + \"_\" + str(load_file_name_last) + \"last_only.analyse\",'wb' )\n",
    "np.save(f_last_save,np.array(base_array,np.int16) - np.array(last_win_info,np.int16))\n",
    "print(\"Save file OK\")"
   ]
  },
  {
   "cell_type": "code",
   "execution_count": 13,
   "metadata": {},
   "outputs": [],
   "source": [
    "odd = (iter.combinations(range(1,10,2),4))\n",
    "even = (iter.combinations(range(2,10,2),4))  "
   ]
  },
  {
   "cell_type": "code",
   "execution_count": 14,
   "metadata": {},
   "outputs": [
    {
     "data": {
      "text/plain": [
       "<itertools.combinations at 0x10ca6c408>"
      ]
     },
     "execution_count": 14,
     "metadata": {},
     "output_type": "execute_result"
    }
   ],
   "source": [
    "odd\n"
   ]
  },
  {
   "cell_type": "code",
   "execution_count": 15,
   "metadata": {},
   "outputs": [
    {
     "data": {
      "text/plain": [
       "[(1, 3, 5, 7), (1, 3, 5, 9), (1, 3, 7, 9), (1, 5, 7, 9), (3, 5, 7, 9)]"
      ]
     },
     "execution_count": 15,
     "metadata": {},
     "output_type": "execute_result"
    }
   ],
   "source": []
  },
  {
   "cell_type": "code",
   "execution_count": null,
   "metadata": {},
   "outputs": [],
   "source": []
  }
 ],
 "metadata": {
  "kernelspec": {
   "display_name": "Python 3",
   "language": "python",
   "name": "python3"
  },
  "language_info": {
   "codemirror_mode": {
    "name": "ipython",
    "version": 3
   },
   "file_extension": ".py",
   "mimetype": "text/x-python",
   "name": "python",
   "nbconvert_exporter": "python",
   "pygments_lexer": "ipython3",
   "version": "3.6.3"
  }
 },
 "nbformat": 4,
 "nbformat_minor": 2
}
